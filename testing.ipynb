{
 "cells": [
  {
   "cell_type": "code",
   "execution_count": 19,
   "id": "initial_id",
   "metadata": {
    "collapsed": true,
    "ExecuteTime": {
     "end_time": "2024-07-25T23:41:41.130816Z",
     "start_time": "2024-07-25T23:41:40.833666Z"
    }
   },
   "outputs": [
    {
     "name": "stdout",
     "output_type": "stream",
     "text": [
      "<class 'pandas.core.frame.DataFrame'>\n",
      "DatetimeIndex: 495 entries, 2022-07-27 00:00:00-04:00 to 2024-07-16 00:00:00-04:00\n",
      "Data columns (total 7 columns):\n",
      " #   Column      Non-Null Count  Dtype  \n",
      "---  ------      --------------  -----  \n",
      " 0   Close       495 non-null    float64\n",
      " 1   Volume      495 non-null    int64  \n",
      " 2   RSI         495 non-null    float64\n",
      " 3   Volatility  495 non-null    float64\n",
      " 4   Return      495 non-null    float64\n",
      " 5   +1d         495 non-null    float64\n",
      " 6   +7d         495 non-null    float64\n",
      "dtypes: float64(6), int64(1)\n",
      "memory usage: 30.9 KB\n"
     ]
    },
    {
     "name": "stderr",
     "output_type": "stream",
     "text": [
      "/opt/anaconda3/envs/fastApiProject1/lib/python3.11/site-packages/yfinance/utils.py:788: FutureWarning: The 'unit' keyword in TimedeltaIndex construction is deprecated and will be removed in a future version. Use pd.to_timedelta instead.\n",
      "  df.index += _pd.TimedeltaIndex(dst_error_hours, 'h')\n"
     ]
    }
   ],
   "source": [
    "import pandas as pd\n",
    "from pandas import DataFrame as DF\n",
    "from model.stock_data import fetch_stock_data\n",
    "\n",
    "def preprocess_data(data) -> DF:\n",
    "    \"\"\"\n",
    "    Preprocesses stock data by adding technical indicators.\n",
    "\n",
    "    :param data: DataFrame with stock data.\n",
    "    :return: Preprocessed DataFrame.\n",
    "    \"\"\"\n",
    "    n = 7 # RSI window\n",
    "    data['RSI'] = data['Close'].diff(1).mask(data['Close'].diff(1) < 0, 0).ewm(alpha=1/n, adjust=False).mean().div(data['Close'].diff(1).mask(data['Close'].diff(1) > 0, -0.0).abs().ewm(alpha=1/n, adjust=False).mean()).add(1).rdiv(100).rsub(100)\n",
    "    \n",
    "    \n",
    "    data[\"Volatility\"] = data[\"High\"] - data[\"Low\"]\n",
    "    data[\"Return\"] = data[\"Close\"].pct_change()\n",
    "    data[\"+1d\"] = data[\"Close\"].shift(-1)\n",
    "    data[\"+7d\"] = data[\"Close\"].shift(-7)\n",
    "    \n",
    "    data = data.drop([\"Dividends\", \"Stock Splits\", \"High\", \"Low\", \"Open\"], axis=1)\n",
    "    data = data.dropna()\n",
    "    data.info()\n",
    "    return data\n",
    "\n",
    "ticker_name = 'NVDA'\n",
    "stock_data = fetch_stock_data(ticker_name)\n",
    "stock_data = preprocess_data(stock_data)\n"
   ]
  },
  {
   "cell_type": "code",
   "execution_count": 20,
   "outputs": [
    {
     "data": {
      "text/plain": "                               Close     Volume         RSI  Volatility  \\\nDate                                                                      \n2022-07-27 00:00:00-04:00  17.769989  569776000  100.000000    1.021850   \n2022-07-28 00:00:00-04:00  17.963770  474646000  100.000000    0.699211   \n2022-07-29 00:00:00-04:00  18.142567  435460000  100.000000    0.551379   \n2022-08-01 00:00:00-04:00  18.420254  476469000  100.000000    0.855038   \n2022-08-02 00:00:00-04:00  18.505159  489527000  100.000000    0.845049   \n2022-08-03 00:00:00-04:00  18.871748  418146000  100.000000    0.830067   \n2022-08-04 00:00:00-04:00  19.193386  409652000  100.000000    0.513422   \n2022-08-05 00:00:00-04:00  18.967640  386068000   94.522390    0.562366   \n2022-08-08 00:00:00-04:00  17.772984  981859000   70.634516    0.995878   \n2022-08-09 00:00:00-04:00  17.066782  668263000   60.150771    0.722186   \n\n                             Return        +1d        +7d  \nDate                                                       \n2022-07-27 00:00:00-04:00  0.076030  17.963770  18.967640  \n2022-07-28 00:00:00-04:00  0.010905  18.142567  17.772984  \n2022-07-29 00:00:00-04:00  0.009953  18.420254  17.066782  \n2022-08-01 00:00:00-04:00  0.015306  18.505159  18.076643  \n2022-08-02 00:00:00-04:00  0.004609  18.871748  17.921814  \n2022-08-03 00:00:00-04:00  0.019810  19.193386  18.687952  \n2022-08-04 00:00:00-04:00  0.017043  18.967640  19.010588  \n2022-08-05 00:00:00-04:00 -0.011762  17.772984  18.857763  \n2022-08-08 00:00:00-04:00 -0.062984  17.066782  18.314371  \n2022-08-09 00:00:00-04:00 -0.039735  18.076643  18.751881  ",
      "text/html": "<div>\n<style scoped>\n    .dataframe tbody tr th:only-of-type {\n        vertical-align: middle;\n    }\n\n    .dataframe tbody tr th {\n        vertical-align: top;\n    }\n\n    .dataframe thead th {\n        text-align: right;\n    }\n</style>\n<table border=\"1\" class=\"dataframe\">\n  <thead>\n    <tr style=\"text-align: right;\">\n      <th></th>\n      <th>Close</th>\n      <th>Volume</th>\n      <th>RSI</th>\n      <th>Volatility</th>\n      <th>Return</th>\n      <th>+1d</th>\n      <th>+7d</th>\n    </tr>\n    <tr>\n      <th>Date</th>\n      <th></th>\n      <th></th>\n      <th></th>\n      <th></th>\n      <th></th>\n      <th></th>\n      <th></th>\n    </tr>\n  </thead>\n  <tbody>\n    <tr>\n      <th>2022-07-27 00:00:00-04:00</th>\n      <td>17.769989</td>\n      <td>569776000</td>\n      <td>100.000000</td>\n      <td>1.021850</td>\n      <td>0.076030</td>\n      <td>17.963770</td>\n      <td>18.967640</td>\n    </tr>\n    <tr>\n      <th>2022-07-28 00:00:00-04:00</th>\n      <td>17.963770</td>\n      <td>474646000</td>\n      <td>100.000000</td>\n      <td>0.699211</td>\n      <td>0.010905</td>\n      <td>18.142567</td>\n      <td>17.772984</td>\n    </tr>\n    <tr>\n      <th>2022-07-29 00:00:00-04:00</th>\n      <td>18.142567</td>\n      <td>435460000</td>\n      <td>100.000000</td>\n      <td>0.551379</td>\n      <td>0.009953</td>\n      <td>18.420254</td>\n      <td>17.066782</td>\n    </tr>\n    <tr>\n      <th>2022-08-01 00:00:00-04:00</th>\n      <td>18.420254</td>\n      <td>476469000</td>\n      <td>100.000000</td>\n      <td>0.855038</td>\n      <td>0.015306</td>\n      <td>18.505159</td>\n      <td>18.076643</td>\n    </tr>\n    <tr>\n      <th>2022-08-02 00:00:00-04:00</th>\n      <td>18.505159</td>\n      <td>489527000</td>\n      <td>100.000000</td>\n      <td>0.845049</td>\n      <td>0.004609</td>\n      <td>18.871748</td>\n      <td>17.921814</td>\n    </tr>\n    <tr>\n      <th>2022-08-03 00:00:00-04:00</th>\n      <td>18.871748</td>\n      <td>418146000</td>\n      <td>100.000000</td>\n      <td>0.830067</td>\n      <td>0.019810</td>\n      <td>19.193386</td>\n      <td>18.687952</td>\n    </tr>\n    <tr>\n      <th>2022-08-04 00:00:00-04:00</th>\n      <td>19.193386</td>\n      <td>409652000</td>\n      <td>100.000000</td>\n      <td>0.513422</td>\n      <td>0.017043</td>\n      <td>18.967640</td>\n      <td>19.010588</td>\n    </tr>\n    <tr>\n      <th>2022-08-05 00:00:00-04:00</th>\n      <td>18.967640</td>\n      <td>386068000</td>\n      <td>94.522390</td>\n      <td>0.562366</td>\n      <td>-0.011762</td>\n      <td>17.772984</td>\n      <td>18.857763</td>\n    </tr>\n    <tr>\n      <th>2022-08-08 00:00:00-04:00</th>\n      <td>17.772984</td>\n      <td>981859000</td>\n      <td>70.634516</td>\n      <td>0.995878</td>\n      <td>-0.062984</td>\n      <td>17.066782</td>\n      <td>18.314371</td>\n    </tr>\n    <tr>\n      <th>2022-08-09 00:00:00-04:00</th>\n      <td>17.066782</td>\n      <td>668263000</td>\n      <td>60.150771</td>\n      <td>0.722186</td>\n      <td>-0.039735</td>\n      <td>18.076643</td>\n      <td>18.751881</td>\n    </tr>\n  </tbody>\n</table>\n</div>"
     },
     "execution_count": 20,
     "metadata": {},
     "output_type": "execute_result"
    }
   ],
   "source": [
    "stock_data.head(10)"
   ],
   "metadata": {
    "collapsed": false,
    "ExecuteTime": {
     "end_time": "2024-07-25T23:41:43.155645Z",
     "start_time": "2024-07-25T23:41:43.030416Z"
    }
   },
   "id": "6c4bf2799111739d"
  },
  {
   "cell_type": "code",
   "execution_count": null,
   "outputs": [],
   "source": [],
   "metadata": {
    "collapsed": false
   },
   "id": "913584db54f2a5a0"
  }
 ],
 "metadata": {
  "kernelspec": {
   "display_name": "Python 3",
   "language": "python",
   "name": "python3"
  },
  "language_info": {
   "codemirror_mode": {
    "name": "ipython",
    "version": 2
   },
   "file_extension": ".py",
   "mimetype": "text/x-python",
   "name": "python",
   "nbconvert_exporter": "python",
   "pygments_lexer": "ipython2",
   "version": "2.7.6"
  }
 },
 "nbformat": 4,
 "nbformat_minor": 5
}
